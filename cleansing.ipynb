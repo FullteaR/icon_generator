{
 "cells": [
  {
   "cell_type": "code",
   "execution_count": null,
   "metadata": {},
   "outputs": [],
   "source": [
    "import os\n",
    "import tensorflow as tf\n",
    "import numpy as np\n",
    "import cv2\n",
    "import matplotlib.pyplot as plt\n",
    "from multiprocessing import Pool\n",
    "from tqdm.auto import tqdm\n",
    "import random\n",
    "from sklearn.model_selection import train_test_split\n",
    "from tensorflow.keras.applications import ResNet50V2 as pretrained\n",
    "from tensorflow.keras.utils import to_categorical, Sequence\n",
    "from tensorflow.keras.layers import GlobalAveragePooling2D,Dense,Dropout,ReLU\n",
    "from tensorflow.keras.models import Model\n",
    "from tensorflow.keras.optimizers import Adam\n",
    "from functools import lru_cache\n",
    "import multiprocessing\n",
    "import uuid\n",
    "\n",
    "from utils import *"
   ]
  },
  {
   "cell_type": "code",
   "execution_count": null,
   "metadata": {},
   "outputs": [],
   "source": [
    "os.environ[\"CUDA_VISIBLE_DEVICES\"]=\"1\""
   ]
  },
  {
   "cell_type": "code",
   "execution_count": null,
   "metadata": {},
   "outputs": [],
   "source": [
    "WIDTH = 64\n",
    "HEIGHT = 64"
   ]
  },
  {
   "cell_type": "code",
   "execution_count": null,
   "metadata": {},
   "outputs": [],
   "source": [
    "def read_file(filepath, flip=False):\n",
    "    img = cv2.imread(filepath)\n",
    "    img = cv2.resize(img, (WIDTH, HEIGHT))\n",
    "    img = cv2.cvtColor(img, cv2.COLOR_BGR2RGB)\n",
    "    if flip:\n",
    "        img = cv2.flip(img, 1)\n",
    "    return img\n",
    "\n",
    "\n",
    "def trim_random(folder):\n",
    "    try:\n",
    "        imgs=os.listdir(folder)\n",
    "        img_name=random.choice(imgs)\n",
    "        img_path=os.path.join(folder, img_name)\n",
    "        img = cv2.imread(img_path)\n",
    "        size = random.randint(64,min(img.shape[0],img.shape[1]))\n",
    "        x = random.randint(0,img.shape[1]-size)\n",
    "        y = random.randint(0,img.shape[0]-size)\n",
    "        img = img[y:y+size, x:x+size,:]\n",
    "        img = cv2.resize(img, (WIDTH, HEIGHT))\n",
    "        img = cv2.cvtColor(img, cv2.COLOR_BGR2RGB)\n",
    "        return img\n",
    "    except:\n",
    "        return None"
   ]
  },
  {
   "cell_type": "code",
   "execution_count": null,
   "metadata": {},
   "outputs": [],
   "source": [
    "def clean(Height, Width, channel=3):\n",
    "    model =  pretrained(weights=\"imagenet\", include_top=False, input_shape=(Height,Width,channel))\n",
    "    x = model.output  \n",
    "    x = GlobalAveragePooling2D()(x)\n",
    "    x = Dropout(rate=0.7)(x)\n",
    "    x = Dense(512)(x)\n",
    "    x = Dropout(0.5)(x)\n",
    "    x = ReLU(0.2)(x)\n",
    "    outputs = Dense(2, activation=\"softmax\")(x)\n",
    "    model = Model(inputs=model.input, outputs=outputs)\n",
    "    return model"
   ]
  },
  {
   "cell_type": "code",
   "execution_count": null,
   "metadata": {},
   "outputs": [],
   "source": [
    "class DataLoader(Sequence):\n",
    "    \n",
    "    def __init__(self, true_files, false_folder, batch_size, height, width, training=True):\n",
    "        self.X=true_files\n",
    "        self.false_folder=false_folder\n",
    "        self.width=width\n",
    "        self.height=height\n",
    "        self.batch_size=batch_size\n",
    "        self.training=training\n",
    "\n",
    "    def __len__(self):\n",
    "        return int(np.ceil(len(self.X) / self.batch_size))\n",
    "    \n",
    "    def __getitem__(self, idx):\n",
    "        img_paths = self.X[idx * self.batch_size:(idx + 1) * self.batch_size]\n",
    "        \n",
    "        \n",
    "        imgs_true = [read_file(path, flip=False) for path in img_paths] \n",
    "        if self.training:\n",
    "            imgs_true += [read_file(path, flip=True) for path in img_paths]\n",
    "            imgs_false = [trim_random(self.false_folder) for i in range(len(imgs_true))]\n",
    "            imgs_false = [img for img in imgs_false if img is not None]\n",
    "        else:\n",
    "            imgs_false = []\n",
    "        X = imgs_true + imgs_false\n",
    "        y = [1 for i in range(len(imgs_true))] + [0 for i in range(len(imgs_false))]\n",
    "        \n",
    "        X = np.asarray(X).astype(np.float32)/255.0\n",
    "        y = to_categorical(y)\n",
    "        return X, y"
   ]
  },
  {
   "cell_type": "code",
   "execution_count": null,
   "metadata": {},
   "outputs": [],
   "source": [
    "def cleanup(true_files, false_folder=\"./input\", k=5):\n",
    "    labels=[]\n",
    "    workers=multiprocessing.cpu_count()\n",
    "    batch=len(true_files)//(k-1)\n",
    "    for i in tqdm(range(k)):\n",
    "        true_files_train = true_files[:i*batch] + true_files[(i+1)*batch:]\n",
    "        true_files_test = true_files[i*batch:(i+1)*batch]\n",
    "        if len(true_files_test)==0:\n",
    "            continue\n",
    "        train_gen = DataLoader(true_files_train, false_folder, 256, HEIGHT, WIDTH, training=True)\n",
    "        test_gen = DataLoader(true_files_test, false_folder, 256, HEIGHT, WIDTH, training=False)\n",
    "        model = clean(HEIGHT, WIDTH)\n",
    "        model.compile(optimizer=Adam(),loss=\"categorical_crossentropy\",metrics=[\"acc\"])\n",
    "        model.fit(train_gen, validation_data=test_gen, epochs=3, workers=workers, use_multiprocessing=True)\n",
    "        label = model.predict(test_gen, verbose=1)\n",
    "        label = np.argmax(label, axis=1)\n",
    "        label = label.tolist()\n",
    "        assert len(label) == len(true_files_test)\n",
    "        labels += label\n",
    "    return labels"
   ]
  },
  {
   "cell_type": "code",
   "execution_count": null,
   "metadata": {},
   "outputs": [],
   "source": [
    "true_files = os.listdir(\"./faces\")\n",
    "true_paths=[os.path.join(\"./faces\", name) for name in true_files]\n",
    "labels = cleanup(true_paths, \"./input\", k=3)"
   ]
  },
  {
   "cell_type": "code",
   "execution_count": null,
   "metadata": {},
   "outputs": [],
   "source": [
    "img_false=np.array(true_files)[np.array(labels)==0]"
   ]
  },
  {
   "cell_type": "code",
   "execution_count": null,
   "metadata": {},
   "outputs": [],
   "source": [
    "row = 12\n",
    "col = 14\n",
    "plt.figure(figsize=(col*3, row*3))\n",
    "plt.suptitle(\"false images: {0}\".format(img_false.shape[0]), fontsize=20)\n",
    "for i in range(row * col):\n",
    "    plt.subplot(row, col, i+1)\n",
    "    filename=random.choice(img_false)\n",
    "    filepath=os.path.join(\"./faces\",filename)\n",
    "    img = read_file(filepath)\n",
    "    plt.imshow(img.astype(np.uint8))\n",
    "    plt.axis('off')"
   ]
  },
  {
   "cell_type": "code",
   "execution_count": null,
   "metadata": {},
   "outputs": [],
   "source": [
    "for name in img_false:\n",
    "    path = os.path.join(\"./faces\",name)\n",
    "    os.remove(path)"
   ]
  },
  {
   "cell_type": "code",
   "execution_count": null,
   "metadata": {},
   "outputs": [],
   "source": []
  }
 ],
 "metadata": {
  "kernelspec": {
   "display_name": "Python 3",
   "language": "python",
   "name": "python3"
  },
  "language_info": {
   "codemirror_mode": {
    "name": "ipython",
    "version": 3
   },
   "file_extension": ".py",
   "mimetype": "text/x-python",
   "name": "python",
   "nbconvert_exporter": "python",
   "pygments_lexer": "ipython3",
   "version": "3.6.5"
  }
 },
 "nbformat": 4,
 "nbformat_minor": 4
}
