{
 "cells": [
  {
   "cell_type": "code",
   "execution_count": 1,
   "metadata": {},
   "outputs": [],
   "source": [
    "import os\n",
    "import json\n",
    "from tqdm.notebook import tqdm\n",
    "import cv2\n",
    "import matplotlib.pyplot as plt\n",
    "import uuid\n",
    "import subprocess\n",
    "from multiprocessing import Pool\n",
    "from tensorflow.keras.preprocessing.image import ImageDataGenerator\n",
    "import numpy as np\n",
    "import shutil\n",
    "from timeout_decorator import timeout, TimeoutError"
   ]
  },
  {
   "cell_type": "code",
   "execution_count": 2,
   "metadata": {},
   "outputs": [],
   "source": [
    "inputFolder = \"./input\""
   ]
  },
  {
   "cell_type": "code",
   "execution_count": 3,
   "metadata": {},
   "outputs": [],
   "source": [
    "def trim(json, likelihood=0.98):\n",
    "    \n",
    "    save=\"./faces/{0}.jpg\"\n",
    "    save_up=\"./faces_up/{0}.jpg\"\n",
    "    \n",
    "    try:\n",
    "        if json[\"likelihood\"]<likelihood:\n",
    "            return \n",
    "        img = cv2.imread(json[\"file\"])\n",
    "        #img = cv2.cvtColor(img,cv2.COLOR_BGR2RGB)\n",
    "        x = json[\"face\"][\"x\"]\n",
    "        y = json[\"face\"][\"y\"]\n",
    "        width = json[\"face\"][\"width\"]\n",
    "        height = json[\"face\"][\"height\"]\n",
    "        img_up = img[y:y+height, x:x+width,:]\n",
    "        img_trim = img[y-height//2:y+(height*3)//2, x-width//2:x+(width*3)//2,:]\n",
    "        \n",
    "\n",
    "        cv2.imwrite(save.format(str(uuid.uuid4())), img_trim)\n",
    "        cv2.imwrite(save_up.format(str(uuid.uuid4())), img_up)\n",
    "    except Exception as e:\n",
    "        pass\n",
    "        \n",
    "@timeout(600)\n",
    "def _create_dataset(filename):\n",
    "    if (filename[-4::] in (\".jpg\",\".png\"))==False :\n",
    "        return\n",
    "    uid = str(uuid.uuid4())\n",
    "    tmpFolder=\"tmp-\" + uid\n",
    "    os.makedirs(tmpFolder)\n",
    "    shutil.copy(os.path.join(inputFolder, filename), os.path.join(tmpFolder, filename))\n",
    "    cmd = \"ruby /animeface-2009/animeface-ruby/proc_folder.rb {0} {0}/{1}.json\".format(tmpFolder, uid)\n",
    "    subprocess.run(cmd.split(\" \"))\n",
    "    with open(\"{0}/{1}.json\".format(tmpFolder, uid), \"r\") as fp:\n",
    "        for line in fp:\n",
    "            data=json.loads(line)\n",
    "            trim(data)\n",
    "    \n",
    "    shutil.rmtree(tmpFolder)\n",
    "\n",
    "def create_dataset(filename):\n",
    "    try:\n",
    "        _create_dataset(filename)\n",
    "    except TimeoutError:\n",
    "        print(\"timeout:\",filename)"
   ]
  },
  {
   "cell_type": "code",
   "execution_count": null,
   "metadata": {},
   "outputs": [
    {
     "data": {
      "application/vnd.jupyter.widget-view+json": {
       "model_id": "911cccab31724e6cb18492c7f8bbfbac",
       "version_major": 2,
       "version_minor": 0
      },
      "text/plain": [
       "HBox(children=(FloatProgress(value=0.0, max=245956.0), HTML(value='')))"
      ]
     },
     "metadata": {},
     "output_type": "display_data"
    }
   ],
   "source": [
    "with Pool() as p:\n",
    "    imap = p.imap(create_dataset, os.listdir(inputFolder))\n",
    "    list(tqdm(imap, total=len(os.listdir(inputFolder))))"
   ]
  }
 ],
 "metadata": {
  "kernelspec": {
   "display_name": "Python 3",
   "language": "python",
   "name": "python3"
  },
  "language_info": {
   "codemirror_mode": {
    "name": "ipython",
    "version": 3
   },
   "file_extension": ".py",
   "mimetype": "text/x-python",
   "name": "python",
   "nbconvert_exporter": "python",
   "pygments_lexer": "ipython3",
   "version": "3.6.5"
  }
 },
 "nbformat": 4,
 "nbformat_minor": 4
}
