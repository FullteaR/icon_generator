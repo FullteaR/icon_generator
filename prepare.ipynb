{
 "cells": [
  {
   "cell_type": "code",
   "execution_count": 1,
   "metadata": {},
   "outputs": [],
   "source": [
    "import os\n",
    "import json\n",
    "from tqdm.notebook import tqdm\n",
    "import cv2\n",
    "import matplotlib.pyplot as plt\n",
    "import uuid\n",
    "import subprocess\n",
    "from multiprocessing import Pool\n",
    "from tensorflow.keras.preprocessing.image import ImageDataGenerator\n",
    "import numpy as np\n",
    "import shutil\n",
    "from timeout_decorator import timeout, TimeoutError"
   ]
  },
  {
   "cell_type": "code",
   "execution_count": 2,
   "metadata": {},
   "outputs": [],
   "source": [
    "inputFolder = \"./input\""
   ]
  },
  {
   "cell_type": "code",
   "execution_count": 3,
   "metadata": {},
   "outputs": [],
   "source": [
    "def trim(json, likelihood=0.98):\n",
    "    \n",
    "    save=\"./faces/{0}.jpg\"\n",
    "    save_up=\"./faces_up/{0}.jpg\"\n",
    "    save_middle=\"./faces_middle/{0}.jpg\"\n",
    "    \n",
    "    try:\n",
    "        if json[\"likelihood\"]<likelihood:\n",
    "            return \n",
    "        img = cv2.imread(json[\"file\"])\n",
    "        #img = cv2.cvtColor(img,cv2.COLOR_BGR2RGB)\n",
    "        x = json[\"face\"][\"x\"]\n",
    "        y = json[\"face\"][\"y\"]\n",
    "        width = json[\"face\"][\"width\"]\n",
    "        height = json[\"face\"][\"height\"]\n",
    "        img_up = img[y:y+height, x:x+width,:]\n",
    "        img_trim = img[y-height//2:y+(height*3)//2, x-width//2:x+(width*3)//2,:]\n",
    "        img_middle = img[y-height//3:y+(height*4)//3, x-width//3:x+(width*4)//3,:]\n",
    "        \n",
    "\n",
    "        cv2.imwrite(save.format(str(uuid.uuid4())), img_trim)\n",
    "        cv2.imwrite(save_up.format(str(uuid.uuid4())), img_up)\n",
    "        cv2.imwrite(save_middle.format(str(uuid.uuid4())), img_middle)\n",
    "    except Exception as e:\n",
    "        pass\n",
    "        \n",
    "@timeout(1200)\n",
    "def _create_dataset(filename):\n",
    "    if (filename[-4::] in (\".jpg\",\".png\"))==False :\n",
    "        return\n",
    "    uid = str(uuid.uuid4())\n",
    "    tmpFolder=\"tmp-\" + uid\n",
    "    os.makedirs(tmpFolder)\n",
    "    shutil.copy(os.path.join(inputFolder, filename), os.path.join(tmpFolder, filename))\n",
    "    cmd = \"ruby /animeface-2009/animeface-ruby/proc_folder.rb {0} {0}/{1}.json\".format(tmpFolder, uid)\n",
    "    subprocess.run(cmd.split(\" \"))\n",
    "    with open(\"{0}/{1}.json\".format(tmpFolder, uid), \"r\") as fp:\n",
    "        for line in fp:\n",
    "            data=json.loads(line)\n",
    "            trim(data)\n",
    "    \n",
    "    shutil.rmtree(tmpFolder)\n",
    "\n",
    "def create_dataset(filename):\n",
    "    try:\n",
    "        _create_dataset(filename)\n",
    "    except TimeoutError:\n",
    "        print(\"timeout:\",filename)"
   ]
  },
  {
   "cell_type": "code",
   "execution_count": 4,
   "metadata": {},
   "outputs": [
    {
     "data": {
      "application/vnd.jupyter.widget-view+json": {
       "model_id": "563184c3ca6c40b2947cb1e865a3daf6",
       "version_major": 2,
       "version_minor": 0
      },
      "text/plain": [
       "HBox(children=(FloatProgress(value=0.0, max=348548.0), HTML(value='')))"
      ]
     },
     "metadata": {},
     "output_type": "display_data"
    },
    {
     "name": "stdout",
     "output_type": "stream",
     "text": [
      "timeout: f4165ff1-b97d-486f-b1c7-ec551b0c3288.jpg\n",
      "timeout: d5faea88-5694-4fef-bb58-81808fc726cd.jpg\n",
      "timeout: 53337a98-344f-4514-ae33-e33b9fee4762.jpg\n",
      "timeout: 34e22b16-9705-4c4d-bde3-85c78e46196c.jpg\n",
      "timeout: 1998d18c-a77a-4903-959f-8c4ab1a7f781.jpg\n",
      "timeout: f945a350-b5e0-43d1-b16d-81e7bb46aab7.jpg\n",
      "timeout: 3f516d09-ceaf-4e93-9f72-1a2eb9c2c62a.jpg\n",
      "timeout: ad5f7a0d-93c4-4521-a462-71eb7af07332.jpg\n",
      "timeout: 9e979890-6465-4091-8be8-658cdc8449a0.jpg\n",
      "timeout: c80b8239-b5b9-4db9-91d2-19ebffb917d3.jpg\n",
      "timeout: 4280dc42-b161-42dc-89eb-277d1bde57e6.jpg\n",
      "timeout: 2de1eb71-cb54-432b-94c0-3fea105ce3c2.jpg\n",
      "timeout: eb3a3643-027f-41ee-a047-bfd7586aaf3f.jpg\n",
      "timeout: 4280a362-7890-4d8f-8eed-74f9a1a4e8c7.jpg\n",
      "timeout: f8e5f269-f787-4dcd-99a5-ce4cc4871285.jpg\n",
      "timeout: ad6580b9-ca65-4e1e-b865-ef8ddd01eb76.jpg\n",
      "timeout: a1b3eb39-8a9c-4a71-bd3d-e2051fdc1862.jpg\n",
      "timeout: 18dcaa3a-2b19-4e57-aa45-c2f01675ecf5.jpg\n",
      "\n"
     ]
    }
   ],
   "source": [
    "with Pool() as p:\n",
    "    imap = p.imap(create_dataset, os.listdir(inputFolder))\n",
    "    list(tqdm(imap, total=len(os.listdir(inputFolder))))"
   ]
  }
 ],
 "metadata": {
  "kernelspec": {
   "display_name": "Python 3",
   "language": "python",
   "name": "python3"
  },
  "language_info": {
   "codemirror_mode": {
    "name": "ipython",
    "version": 3
   },
   "file_extension": ".py",
   "mimetype": "text/x-python",
   "name": "python",
   "nbconvert_exporter": "python",
   "pygments_lexer": "ipython3",
   "version": "3.6.5"
  }
 },
 "nbformat": 4,
 "nbformat_minor": 4
}
