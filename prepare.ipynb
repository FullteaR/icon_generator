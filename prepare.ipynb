{
 "cells": [
  {
   "cell_type": "code",
   "execution_count": 1,
   "metadata": {},
   "outputs": [],
   "source": [
    "import os\n",
    "import json\n",
    "from tqdm.notebook import tqdm\n",
    "import cv2\n",
    "import matplotlib.pyplot as plt\n",
    "import uuid\n",
    "import subprocess\n",
    "from multiprocessing import Pool\n",
    "from tensorflow.keras.preprocessing.image import ImageDataGenerator\n",
    "import numpy as np\n",
    "import shutil"
   ]
  },
  {
   "cell_type": "code",
   "execution_count": null,
   "metadata": {},
   "outputs": [],
   "source": [
    "inputFolder = \"./slices\""
   ]
  },
  {
   "cell_type": "code",
   "execution_count": null,
   "metadata": {},
   "outputs": [],
   "source": [
    "def trim(json, size=None, augment=3, likelihood=0.98):\n",
    "    \n",
    "    save=\"./prepare/{0}.jpg\"\n",
    "    \n",
    "    try:\n",
    "        if json[\"likelihood\"]<likelihood:\n",
    "            return \n",
    "        img = cv2.imread(json[\"file\"])\n",
    "        #img = cv2.cvtColor(img,cv2.COLOR_BGR2RGB)\n",
    "        x = json[\"face\"][\"x\"]\n",
    "        y = json[\"face\"][\"y\"]\n",
    "        width = json[\"face\"][\"width\"]\n",
    "        height = json[\"face\"][\"height\"]\n",
    "        img = img[y:y+height, x:x+width,:]\n",
    "        if size:\n",
    "            img = cv2.resize(img,size)\n",
    "\n",
    "        if width>=80 and height>=80:\n",
    "            cv2.imwrite(save.format(str(uuid.uuid4())), img)\n",
    "            if augment:\n",
    "                datagen = ImageDataGenerator(\n",
    "                    rotation_range=45,\n",
    "                    width_shift_range=0.1,\n",
    "                    height_shift_range=0.1,\n",
    "                    shear_range=0,\n",
    "                    zoom_range=[0.8,1.0],\n",
    "                    horizontal_flip=True,\n",
    "                    vertical_flip=False,\n",
    "                    fill_mode=\"reflect\")\n",
    "                img = img.reshape((1,)+img.shape)\n",
    "                for i,d in enumerate(datagen.flow(img, batch_size=1)):\n",
    "                    cv2.imwrite(save.format(str(uuid.uuid4())), d[0].astype(np.uint8))\n",
    "                    if i==augment:\n",
    "                        break\n",
    "        return img\n",
    "    except Exception as e:\n",
    "        print(e)\n",
    "        \n",
    "\n",
    "def create_dataset(filename):\n",
    "    if (filename[-4::] in (\".jpg\",\".png\"))==False :\n",
    "        return\n",
    "    uid = str(uuid.uuid4())\n",
    "    tmpFolder=\"tmp-\" + uid\n",
    "    os.makedirs(tmpFolder)\n",
    "    shutil.copy(os.path.join(inputFolder, filename), os.path.join(tmpFolder, filename))\n",
    "    cmd = \"ruby /animeface-2009/animeface-ruby/proc_folder.rb {0} {0}/{1}.json\".format(tmpFolder, uid)\n",
    "    subprocess.run(cmd.split(\" \"))\n",
    "    with open(\"{0}/{1}.json\".format(tmpFolder, uid), \"r\") as fp:\n",
    "        for line in fp:\n",
    "            data=json.loads(line)\n",
    "            trim(data, augment=None)\n",
    "    \n",
    "    shutil.rmtree(tmpFolder)"
   ]
  },
  {
   "cell_type": "code",
   "execution_count": null,
   "metadata": {},
   "outputs": [],
   "source": [
    "with Pool() as p:\n",
    "    imap = p.imap(create_dataset, os.listdir(inputFolder))\n",
    "    list(tqdm(imap, total=len(os.listdir(inputFolder))))"
   ]
  },
  {
   "cell_type": "code",
   "execution_count": null,
   "metadata": {},
   "outputs": [],
   "source": []
  }
 ],
 "metadata": {
  "kernelspec": {
   "display_name": "Python 3",
   "language": "python",
   "name": "python3"
  },
  "language_info": {
   "codemirror_mode": {
    "name": "ipython",
    "version": 3
   },
   "file_extension": ".py",
   "mimetype": "text/x-python",
   "name": "python",
   "nbconvert_exporter": "python",
   "pygments_lexer": "ipython3",
   "version": "3.6.5"
  }
 },
 "nbformat": 4,
 "nbformat_minor": 4
}
