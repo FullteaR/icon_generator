{
 "cells": [
  {
   "cell_type": "code",
   "execution_count": 1,
   "metadata": {},
   "outputs": [],
   "source": [
    "import os\n",
    "import json\n",
    "from tqdm.notebook import tqdm\n",
    "import cv2\n",
    "import matplotlib.pyplot as plt\n",
    "import uuid\n",
    "import subprocess\n",
    "from multiprocessing import Pool\n",
    "from tensorflow.keras.preprocessing.image import ImageDataGenerator\n",
    "import numpy as np"
   ]
  },
  {
   "cell_type": "code",
   "execution_count": 2,
   "metadata": {},
   "outputs": [],
   "source": [
    "inputFolder=\"./input\"\n",
    "outputFile=\"./output.json\"\n",
    "cmd=\"ruby /animeface-2009/animeface-ruby/proc_folder_parallel.rb {0} {1}\".format(inputFolder, outputFile)"
   ]
  },
  {
   "cell_type": "code",
   "execution_count": 3,
   "metadata": {},
   "outputs": [
    {
     "data": {
      "text/plain": [
       "CompletedProcess(args=['ruby', '/animeface-2009/animeface-ruby/proc_folder_parallel.rb', './input', './output.json'], returncode=0)"
      ]
     },
     "execution_count": 3,
     "metadata": {},
     "output_type": "execute_result"
    }
   ],
   "source": [
    "subprocess.run(cmd.split(\" \"))"
   ]
  },
  {
   "cell_type": "code",
   "execution_count": 4,
   "metadata": {},
   "outputs": [
    {
     "data": {
      "application/vnd.jupyter.widget-view+json": {
       "model_id": "e117b04899c54676b9dd60ec4c333685",
       "version_major": 2,
       "version_minor": 0
      },
      "text/plain": [
       "HBox(children=(FloatProgress(value=1.0, bar_style='info', max=1.0), HTML(value='')))"
      ]
     },
     "metadata": {},
     "output_type": "display_data"
    },
    {
     "name": "stdout",
     "output_type": "stream",
     "text": [
      "\n"
     ]
    }
   ],
   "source": [
    "data=[]\n",
    "with open(outputFile,\"r\") as fp:\n",
    "    for line in tqdm(fp):\n",
    "        data.append(json.loads(line))"
   ]
  },
  {
   "cell_type": "code",
   "execution_count": 5,
   "metadata": {},
   "outputs": [],
   "source": [
    "def trim(json,size=None,augment=20):\n",
    "    try:\n",
    "        img=cv2.imread(json[\"file\"])\n",
    "        #img=cv2.cvtColor(img,cv2.COLOR_BGR2RGB)\n",
    "        x=json[\"face\"][\"x\"]\n",
    "        y=json[\"face\"][\"y\"]\n",
    "        width=json[\"face\"][\"width\"]\n",
    "        height=json[\"face\"][\"height\"]\n",
    "        img=img[y-height//4:y+(height*5)//4,x-width//4:x+(width*5)//4,:]\n",
    "        if size:\n",
    "            img=cv2.resize(img,size)\n",
    "\n",
    "        if width>=80 and height>=80:\n",
    "            cv2.imwrite(\"./prepare/{0}.jpg\".format(str(uuid.uuid4())),img)\n",
    "            if augment:\n",
    "                datagen = ImageDataGenerator(\n",
    "                    rotation_range=45,\n",
    "                    width_shift_range=0.1,\n",
    "                    height_shift_range=0.1,\n",
    "                    shear_range=0,\n",
    "                    zoom_range=[0.8,1.0],\n",
    "                    horizontal_flip=True,\n",
    "                    vertical_flip=False,\n",
    "                    fill_mode=\"reflect\")\n",
    "                img=img.reshape((1,)+img.shape)\n",
    "                for i,d in enumerate(datagen.flow(img, batch_size=1)):\n",
    "                    cv2.imwrite(\"./prepare/{0}.jpg\".format(str(uuid.uuid4())),d[0].astype(np.uint8))\n",
    "                    if i==augment:\n",
    "                        break\n",
    "        return img\n",
    "    except Exception as e:\n",
    "        print(e)\n",
    "        \n"
   ]
  },
  {
   "cell_type": "code",
   "execution_count": 6,
   "metadata": {},
   "outputs": [
    {
     "data": {
      "application/vnd.jupyter.widget-view+json": {
       "model_id": "fc503cf108d341dd9b358710e8cd64cc",
       "version_major": 2,
       "version_minor": 0
      },
      "text/plain": [
       "HBox(children=(FloatProgress(value=0.0, max=1760.0), HTML(value='')))"
      ]
     },
     "metadata": {},
     "output_type": "display_data"
    },
    {
     "name": "stdout",
     "output_type": "stream",
     "text": [
      "OpenCV(4.2.0) /io/opencv/modules/imgcodecs/src/loadsave.cpp:715: error: (-215:Assertion failed) !_img.empty() in function 'imwrite'\n",
      "\n",
      "OpenCV(4.2.0) /io/opencv/modules/imgcodecs/src/loadsave.cpp:715: error: (-215:Assertion failed) !_img.empty() in function 'imwrite'\n",
      "\n",
      "OpenCV(4.2.0) /io/opencv/modules/imgcodecs/src/loadsave.cpp:715: error: (-215:Assertion failed) !_img.empty() in function 'imwrite'\n",
      "\n",
      "OpenCV(4.2.0) /io/opencv/modules/imgcodecs/src/loadsave.cpp:715: error: (-215:Assertion failed) !_img.empty() in function 'imwrite'\n",
      "\n",
      "OpenCV(4.2.0) /io/opencv/modules/imgcodecs/src/loadsave.cpp:715: error: (-215:Assertion failed) !_img.empty() in function 'imwrite'\n",
      "\n",
      "OpenCV(4.2.0) /io/opencv/modules/imgcodecs/src/loadsave.cpp:715: error: (-215:Assertion failed) !_img.empty() in function 'imwrite'\n",
      "\n",
      "OpenCV(4.2.0) /io/opencv/modules/imgcodecs/src/loadsave.cpp:715: error: (-215:Assertion failed) !_img.empty() in function 'imwrite'\n",
      "\n",
      "OpenCV(4.2.0) /io/opencv/modules/imgcodecs/src/loadsave.cpp:715: error: (-215:Assertion failed) !_img.empty() in function 'imwrite'\n",
      "\n",
      "OpenCV(4.2.0) /io/opencv/modules/imgcodecs/src/loadsave.cpp:715: error: (-215:Assertion failed) !_img.empty() in function 'imwrite'\n",
      "\n",
      "OpenCV(4.2.0) /io/opencv/modules/imgcodecs/src/loadsave.cpp:715: error: (-215:Assertion failed) !_img.empty() in function 'imwrite'\n",
      "\n",
      "OpenCV(4.2.0) /io/opencv/modules/imgcodecs/src/loadsave.cpp:715: error: (-215:Assertion failed) !_img.empty() in function 'imwrite'\n",
      "\n",
      "OpenCV(4.2.0) /io/opencv/modules/imgcodecs/src/loadsave.cpp:715: error: (-215:Assertion failed) !_img.empty() in function 'imwrite'\n",
      "\n",
      "\n"
     ]
    }
   ],
   "source": [
    "with Pool() as p:\n",
    "    imap=p.imap(trim,data)\n",
    "    list(tqdm(imap,total=len(data)))"
   ]
  }
 ],
 "metadata": {
  "kernelspec": {
   "display_name": "Python 3",
   "language": "python",
   "name": "python3"
  },
  "language_info": {
   "codemirror_mode": {
    "name": "ipython",
    "version": 3
   },
   "file_extension": ".py",
   "mimetype": "text/x-python",
   "name": "python",
   "nbconvert_exporter": "python",
   "pygments_lexer": "ipython3",
   "version": "3.6.5"
  }
 },
 "nbformat": 4,
 "nbformat_minor": 4
}
