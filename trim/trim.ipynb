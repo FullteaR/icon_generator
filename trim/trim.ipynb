{
 "cells": [
  {
   "cell_type": "code",
   "execution_count": 1,
   "metadata": {},
   "outputs": [],
   "source": [
    "import json\n",
    "import uuid\n",
    "from multiprocessing import Pool\n",
    "from tqdm.auto import tqdm\n",
    "import random\n",
    "import cv2\n",
    "import os\n",
    "from timeout_decorator import timeout, TimeoutError"
   ]
  },
  {
   "cell_type": "code",
   "execution_count": 2,
   "metadata": {},
   "outputs": [],
   "source": [
    "with open(\"output_buckup.json\", \"r\") as fp:\n",
    "    data=fp.readlines()[0]"
   ]
  },
  {
   "cell_type": "code",
   "execution_count": 3,
   "metadata": {},
   "outputs": [
    {
     "data": {
      "text/plain": [
       "843514"
      ]
     },
     "execution_count": 3,
     "metadata": {},
     "output_type": "execute_result"
    }
   ],
   "source": [
    "data = json.loads(data)\n",
    "len(data)"
   ]
  },
  {
   "cell_type": "code",
   "execution_count": 4,
   "metadata": {},
   "outputs": [],
   "source": [
    "@timeout(600)\n",
    "def _trim(item):\n",
    "    size = 512\n",
    "    key, values = item\n",
    "    img = cv2.imread(key)\n",
    "    if img is None:\n",
    "        print(\"error loading\", key)\n",
    "        return\n",
    "    for value in values:\n",
    "        try:\n",
    "            score = value[\"score\"]\n",
    "            if score<0.8:\n",
    "                continue\n",
    "            bbox = value[\"bbox\"]\n",
    "            min_x, min_y, max_x, max_y = bbox\n",
    "            min_x = int(min_x)\n",
    "            min_y = int(min_y)\n",
    "            max_x = int(max_x)\n",
    "            max_y = int(max_y)\n",
    "            \n",
    "            _size = min(max_y-min_y, max_x-min_x)\n",
    "            if _size<size*0.7:\n",
    "                continue\n",
    "            left = random.randint(0,min(min_x, _size*2))\n",
    "            right = random.randint(max_x, min(img.shape[1]-1, max_x+_size*2))\n",
    "            up = random.randint(0,min(min_y, _size*2))\n",
    "            down = random.randint(max_y, min(img.shape[0]-1, max_y+_size*2))\n",
    "            if abs(right-left)>abs(down-up):\n",
    "                delta = abs(right-left) - abs(down-up)\n",
    "                assert delta>=0\n",
    "                right-=delta//2\n",
    "                left+=delta//2\n",
    "            else:\n",
    "                delta = abs(down-up) - abs(right-left)\n",
    "                assert delta>=0\n",
    "                up+=delta//2\n",
    "                down-=delta//2\n",
    "            img_trim = img.copy()[up:down, left:right]\n",
    "            img_trim = cv2.resize(img_trim, (size, size))\n",
    "            cv2.imwrite(\"faces/{0}-{1}.jpg\".format(str(uuid.uuid4()), str(uuid.uuid4())), img_trim)\n",
    "        except Exception as e:\n",
    "            print(key)\n",
    "            print(e)\n",
    "    \n",
    "def trim(item):\n",
    "    try:\n",
    "        _trim(item)\n",
    "    except TimeoutError:\n",
    "        pass"
   ]
  },
  {
   "cell_type": "code",
   "execution_count": 5,
   "metadata": {
    "scrolled": false
   },
   "outputs": [
    {
     "data": {
      "application/vnd.jupyter.widget-view+json": {
       "model_id": "7c648d6499b643e3be77315e77d3d814",
       "version_major": 2,
       "version_minor": 0
      },
      "text/plain": [
       "  0%|          | 0/843514 [00:00<?, ?it/s]"
      ]
     },
     "metadata": {},
     "output_type": "display_data"
    },
    {
     "data": {
      "application/vnd.jupyter.widget-view+json": {
       "model_id": "bcfe726c12aa4d23b90fbe5a64001bbb",
       "version_major": 2,
       "version_minor": 0
      },
      "text/plain": [
       "  0%|          | 0/843514 [00:00<?, ?it/s]"
      ]
     },
     "metadata": {},
     "output_type": "display_data"
    },
    {
     "data": {
      "application/vnd.jupyter.widget-view+json": {
       "model_id": "36d93737c47d489986dc72e77b63abb1",
       "version_major": 2,
       "version_minor": 0
      },
      "text/plain": [
       "  0%|          | 0/843514 [00:00<?, ?it/s]"
      ]
     },
     "metadata": {},
     "output_type": "display_data"
    },
    {
     "data": {
      "application/vnd.jupyter.widget-view+json": {
       "model_id": "75a0bc77e2804c9cb1f663d1cf10b44e",
       "version_major": 2,
       "version_minor": 0
      },
      "text/plain": [
       "  0%|          | 0/843514 [00:00<?, ?it/s]"
      ]
     },
     "metadata": {},
     "output_type": "display_data"
    },
    {
     "data": {
      "application/vnd.jupyter.widget-view+json": {
       "model_id": "c8da1bcd003d44ac8556399f6933b52e",
       "version_major": 2,
       "version_minor": 0
      },
      "text/plain": [
       "  0%|          | 0/843514 [00:00<?, ?it/s]"
      ]
     },
     "metadata": {},
     "output_type": "display_data"
    }
   ],
   "source": [
    "os.makedirs(\"faces\", exist_ok=True)\n",
    "for i in range(5):\n",
    "    with Pool() as p:\n",
    "            imap = p.imap(trim, list(data.items()))\n",
    "            list(tqdm(imap, total=len(data)))"
   ]
  },
  {
   "cell_type": "code",
   "execution_count": null,
   "metadata": {},
   "outputs": [],
   "source": []
  }
 ],
 "metadata": {
  "kernelspec": {
   "display_name": "Python 3",
   "language": "python",
   "name": "python3"
  },
  "language_info": {
   "codemirror_mode": {
    "name": "ipython",
    "version": 3
   },
   "file_extension": ".py",
   "mimetype": "text/x-python",
   "name": "python",
   "nbconvert_exporter": "python",
   "pygments_lexer": "ipython3",
   "version": "3.6.9"
  }
 },
 "nbformat": 4,
 "nbformat_minor": 4
}
