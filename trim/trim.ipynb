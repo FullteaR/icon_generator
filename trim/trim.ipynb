{
 "cells": [
  {
   "cell_type": "code",
   "execution_count": null,
   "metadata": {},
   "outputs": [],
   "source": [
    "import json\n",
    "import uuid\n",
    "from multiprocessing import Pool\n",
    "from tqdm.auto import tqdm\n",
    "import random\n",
    "import cv2\n",
    "import os\n",
    "from timeout_decorator import timeout, TimeoutError\n",
    "import matplotlib.pyplot as plt"
   ]
  },
  {
   "cell_type": "code",
   "execution_count": null,
   "metadata": {},
   "outputs": [],
   "source": [
    "with open(\"/output/output.json\", \"r\") as fp:\n",
    "    data = json.load(fp)\n",
    "len(data)"
   ]
  },
  {
   "cell_type": "code",
   "execution_count": null,
   "metadata": {},
   "outputs": [],
   "source": [
    "originals = random.sample([os.path.join(\"/input\", path) for path in os.listdir(\"/input\")],25)\n",
    "plt.figure(figsize=(48,48))\n",
    "for i in range(25):\n",
    "    plt.subplot(5,5,i+1)\n",
    "    img = cv2.imread(originals[i])\n",
    "    img = cv2.cvtColor(img, cv2.COLOR_BGR2RGB)\n",
    "    plt.imshow(img)"
   ]
  },
  {
   "cell_type": "code",
   "execution_count": null,
   "metadata": {},
   "outputs": [],
   "source": [
    "n = 16\n",
    "plt.imshow(cv2.imread(originals[n]))"
   ]
  },
  {
   "cell_type": "code",
   "execution_count": null,
   "metadata": {},
   "outputs": [],
   "source": [
    "os.remove(originals[n])"
   ]
  },
  {
   "cell_type": "code",
   "execution_count": null,
   "metadata": {},
   "outputs": [],
   "source": [
    "@timeout(600)\n",
    "def _trim(item):\n",
    "    size = 512\n",
    "    key, values = item\n",
    "    img = cv2.imread(key)\n",
    "    if img is None:\n",
    "        print(\"error loading\", key)\n",
    "        return\n",
    "    if img.shape[0]<size or img.shape[1] < size:\n",
    "        return\n",
    "    for value in values:\n",
    "        try:\n",
    "            score = value[\"score\"]\n",
    "            if score<0.8:\n",
    "                continue\n",
    "            bbox = value[\"bbox\"]\n",
    "            min_x, min_y, max_x, max_y = bbox\n",
    "            min_x = int(min_x)\n",
    "            min_y = int(min_y)\n",
    "            max_x = int(max_x)\n",
    "            max_y = int(max_y)\n",
    "            \n",
    "            if min(max_y-min_y, max_x-min_x) < size*0.7:\n",
    "                continue\n",
    "            _size = random.randint(max(size, max_y-min_y, max_x-min_x), min(img.shape[0], img.shape[1], max(max_y-min_y, max_x-min_x)*3))\n",
    "            \n",
    "            left = random.randint(max(0, max_x-_size), min(min_x, img.shape[1]-_size))\n",
    "            right = left + _size\n",
    "            \n",
    "            up = random.randint(max(0, max_y-_size), min(min_y, img.shape[0]-_size))\n",
    "            down = up + _size\n",
    "            \n",
    "            assert max_x<=right and right <= img.shape[1]\n",
    "            assert 0<=left and left<=min_x\n",
    "            assert max_y<=down and down<=img.shape[0]\n",
    "            assert 0<=up and up<=min_y\n",
    "            \n",
    "            img_trim = img.copy()[up:down, left:right]\n",
    "            img_trim = cv2.resize(img_trim, (size, size))\n",
    "            cv2.imwrite(\"/faces/{0}-{1}.jpg\".format(str(uuid.uuid4()), str(uuid.uuid4())), img_trim)\n",
    "        except Exception as e:\n",
    "            print(e)\n",
    "            continue\n",
    "    \n",
    "def trim(item):\n",
    "    try:\n",
    "        _trim(item)\n",
    "    except TimeoutError:\n",
    "        pass"
   ]
  },
  {
   "cell_type": "code",
   "execution_count": null,
   "metadata": {
    "scrolled": true
   },
   "outputs": [],
   "source": [
    "for i in range(5):\n",
    "    with Pool() as p:\n",
    "        imap = p.imap(trim, list(data.items()))\n",
    "        list(tqdm(imap, total=len(data)))"
   ]
  },
  {
   "cell_type": "code",
   "execution_count": null,
   "metadata": {},
   "outputs": [],
   "source": [
    "faces = random.sample([os.path.join(\"/faces\", path) for path in os.listdir(\"/faces\")],25)\n",
    "plt.figure(figsize=(48,48))\n",
    "for i in range(25):\n",
    "    plt.subplot(5,5,i+1)\n",
    "    img = cv2.imread(faces[i])\n",
    "    img = cv2.cvtColor(img, cv2.COLOR_BGR2RGB)\n",
    "    plt.imshow(img)"
   ]
  },
  {
   "cell_type": "code",
   "execution_count": null,
   "metadata": {},
   "outputs": [],
   "source": []
  }
 ],
 "metadata": {
  "kernelspec": {
   "display_name": "Python 3 (ipykernel)",
   "language": "python",
   "name": "python3"
  },
  "language_info": {
   "codemirror_mode": {
    "name": "ipython",
    "version": 3
   },
   "file_extension": ".py",
   "mimetype": "text/x-python",
   "name": "python",
   "nbconvert_exporter": "python",
   "pygments_lexer": "ipython3",
   "version": "3.9.2"
  }
 },
 "nbformat": 4,
 "nbformat_minor": 4
}
