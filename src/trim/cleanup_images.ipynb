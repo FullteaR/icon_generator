{
 "cells": [
  {
   "cell_type": "code",
   "execution_count": null,
   "metadata": {},
   "outputs": [],
   "source": [
    "import json\n",
    "import uuid\n",
    "from multiprocessing import Pool\n",
    "from tqdm.auto import tqdm\n",
    "import random\n",
    "import cv2\n",
    "import os\n",
    "from timeout_decorator import timeout, TimeoutError\n",
    "import matplotlib.pyplot as plt"
   ]
  },
  {
   "cell_type": "code",
   "execution_count": null,
   "metadata": {},
   "outputs": [],
   "source": [
    "pathes = [os.path.join(\"/input\", path) for path in os.listdir(\"/input\")]"
   ]
  },
  {
   "cell_type": "code",
   "execution_count": null,
   "metadata": {},
   "outputs": [],
   "source": [
    "originals = random.sample(pathes, 100)\n",
    "plt.figure(figsize=(48,48))\n",
    "for i in range(100):\n",
    "    plt.subplot(10,10, i+1)\n",
    "    img = cv2.imread(originals[i])\n",
    "    if img is None:\n",
    "        continue\n",
    "    img = cv2.cvtColor(img, cv2.COLOR_BGR2RGB)\n",
    "    plt.imshow(img)"
   ]
  },
  {
   "cell_type": "code",
   "execution_count": null,
   "metadata": {},
   "outputs": [],
   "source": [
    "n = 0\n",
    "plt.figure(figsize=(12,12))\n",
    "img = cv2.cvtColor(cv2.imread(originals[n]), cv2.COLOR_BGR2RGB)\n",
    "plt.imshow(img)"
   ]
  },
  {
   "cell_type": "code",
   "execution_count": null,
   "metadata": {},
   "outputs": [],
   "source": [
    "#os.remove(originals[n])"
   ]
  },
  {
   "cell_type": "code",
   "execution_count": null,
   "metadata": {},
   "outputs": [],
   "source": [
    "with open(\"/output/output.json\", \"r\") as fp:\n",
    "    data = json.load(fp)"
   ]
  },
  {
   "cell_type": "code",
   "execution_count": null,
   "metadata": {},
   "outputs": [],
   "source": [
    "print(len(data))"
   ]
  },
  {
   "cell_type": "code",
   "execution_count": null,
   "metadata": {},
   "outputs": [],
   "source": [
    "pathes_set = set([os.path.join(\"/input\", path) for path in os.listdir(\"/input\")])\n",
    "keys = []\n",
    "for key in list(data.keys()):\n",
    "    if key in pathes_set:\n",
    "        values = data[key]\n",
    "        if len(values)==0:\n",
    "            os.remove(key)\n",
    "            del data[key]\n",
    "            continue\n",
    "        max_size = 0\n",
    "        for value in values:\n",
    "            bbox = value[\"bbox\"]\n",
    "            min_x, min_y, max_x, max_y = bbox\n",
    "            size = min(max_y-min_y, max_x-min_x)\n",
    "            max_size = max(size, max_size)\n",
    "        if max_size < 100:\n",
    "            os.remove(key)\n",
    "            del data[key]\n",
    "    else:\n",
    "        del data[key]"
   ]
  },
  {
   "cell_type": "code",
   "execution_count": null,
   "metadata": {},
   "outputs": [],
   "source": [
    "len(data)"
   ]
  },
  {
   "cell_type": "code",
   "execution_count": null,
   "metadata": {},
   "outputs": [],
   "source": [
    "with open(\"/output/output.json\", \"w\") as fp:\n",
    "    json.dump(data, fp)"
   ]
  }
 ],
 "metadata": {
  "kernelspec": {
   "display_name": "Python 3 (ipykernel)",
   "language": "python",
   "name": "python3"
  },
  "language_info": {
   "codemirror_mode": {
    "name": "ipython",
    "version": 3
   },
   "file_extension": ".py",
   "mimetype": "text/x-python",
   "name": "python",
   "nbconvert_exporter": "python",
   "pygments_lexer": "ipython3",
   "version": "3.10.3"
  }
 },
 "nbformat": 4,
 "nbformat_minor": 4
}
